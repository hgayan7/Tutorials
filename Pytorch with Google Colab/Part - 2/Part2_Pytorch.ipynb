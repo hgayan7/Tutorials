{
  "nbformat": 4,
  "nbformat_minor": 0,
  "metadata": {
    "colab": {
      "name": "Part2-Pytorch.ipynb",
      "provenance": [],
      "toc_visible": true
    },
    "kernelspec": {
      "name": "python3",
      "display_name": "Python 3"
    },
    "accelerator": "GPU"
  },
  "cells": [
    {
      "cell_type": "code",
      "metadata": {
        "id": "KibF9AexEY4r",
        "colab_type": "code",
        "colab": {}
      },
      "source": [
        "import torch.nn as nn\n",
        "import torch.nn.functional as F"
      ],
      "execution_count": 0,
      "outputs": []
    },
    {
      "cell_type": "code",
      "metadata": {
        "id": "AhyNCyCtX5FO",
        "colab_type": "code",
        "colab": {}
      },
      "source": [
        "class NeuralNetwork(nn.Module):\n",
        "  def __init__(self):\n",
        "    super().__init__()\n",
        "    self.fullyConnectedLayer1 = nn.Linear(500,32)\n",
        "    self.fullyConnectedLayer2 = nn.Linear(32,32)\n",
        "    self.fullyConnectedLayer3 = nn.Linear(32,2)\n",
        "\n",
        "  def forward(self, x):\n",
        "    x = F.relu(self.fullyConnectedLayer1(x))\n",
        "    x = F.relu(self.fullyConnectedLayer2(x))\n",
        "    x = self.fullyConnectedLayer3(x)\n",
        "    return F.sigmoid(x)"
      ],
      "execution_count": 0,
      "outputs": []
    },
    {
      "cell_type": "code",
      "metadata": {
        "id": "0M0MnKc1Zky_",
        "colab_type": "code",
        "colab": {}
      },
      "source": [
        "model = NeuralNetwork()"
      ],
      "execution_count": 0,
      "outputs": []
    },
    {
      "cell_type": "code",
      "metadata": {
        "id": "N9WbbCAFZn1r",
        "colab_type": "code",
        "outputId": "c9605c48-33db-46cb-b225-7b444500e934",
        "colab": {
          "base_uri": "https://localhost:8080/",
          "height": 108
        }
      },
      "source": [
        "print(model)"
      ],
      "execution_count": 0,
      "outputs": [
        {
          "output_type": "stream",
          "text": [
            "NeuralNetwork(\n",
            "  (fullyConnectedLayer1): Linear(in_features=500, out_features=32, bias=True)\n",
            "  (fullyConnectedLayer2): Linear(in_features=32, out_features=32, bias=True)\n",
            "  (fullyConnectedLayer3): Linear(in_features=32, out_features=2, bias=True)\n",
            ")\n"
          ],
          "name": "stdout"
        }
      ]
    },
    {
      "cell_type": "code",
      "metadata": {
        "id": "HYOGpTOHZo27",
        "colab_type": "code",
        "colab": {}
      },
      "source": [
        ""
      ],
      "execution_count": 0,
      "outputs": []
    }
  ]
}