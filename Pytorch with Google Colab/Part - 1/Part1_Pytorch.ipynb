{
  "nbformat": 4,
  "nbformat_minor": 0,
  "metadata": {
    "colab": {
      "name": "Part1-Pytorch.ipynb",
      "provenance": []
    },
    "kernelspec": {
      "name": "python3",
      "display_name": "Python 3"
    },
    "accelerator": "GPU"
  },
  "cells": [
    {
      "cell_type": "code",
      "metadata": {
        "id": "qPdJv7O8-5ux",
        "colab_type": "code",
        "outputId": "b27d4659-9301-46a1-f963-00dcacc57d9a",
        "colab": {
          "base_uri": "https://localhost:8080/",
          "height": 35
        }
      },
      "source": [
        "!pip install torch"
      ],
      "execution_count": 0,
      "outputs": [
        {
          "output_type": "stream",
          "text": [
            "Requirement already satisfied: torch in /usr/local/lib/python3.6/dist-packages (1.4.0)\n"
          ],
          "name": "stdout"
        }
      ]
    },
    {
      "cell_type": "code",
      "metadata": {
        "id": "8O90V7-uBz5N",
        "colab_type": "code",
        "outputId": "194afea9-3ff7-45b7-b0c2-288990f5603e",
        "colab": {
          "base_uri": "https://localhost:8080/",
          "height": 90
        }
      },
      "source": [
        "import torch\n",
        "print(torch.__version__)\n",
        "print('Cuda Available : {}'.format(torch.cuda.is_available()))\n",
        "print('GPU - {0}'.format(torch.cuda.get_device_name()))\n",
        "!python --version"
      ],
      "execution_count": 0,
      "outputs": [
        {
          "output_type": "stream",
          "text": [
            "1.4.0\n",
            "Cuda Available : True\n",
            "GPU - Tesla P100-PCIE-16GB\n",
            "Python 3.6.9\n"
          ],
          "name": "stdout"
        }
      ]
    },
    {
      "cell_type": "code",
      "metadata": {
        "id": "4Cm2TjetCsgI",
        "colab_type": "code",
        "colab": {}
      },
      "source": [
        "import matplotlib.pyplot as plt\n",
        "\n",
        "class Operations:\n",
        "  def __init__(self, x, y):\n",
        "    self.x = x\n",
        "    self.y = y\n",
        "  def plot(self):\n",
        "    plt.scatter(self.x,self.y, c = 'r')\n",
        "    plt.xlabel('X values')\n",
        "    plt.ylabel('Y values')\n",
        "    plt.title('Scatter Plot')\n",
        "    plt.show()"
      ],
      "execution_count": 0,
      "outputs": []
    },
    {
      "cell_type": "code",
      "metadata": {
        "id": "Dl6wndgrVw2c",
        "colab_type": "code",
        "outputId": "f433a94e-8029-4dc8-9360-b4d2149f3233",
        "colab": {
          "base_uri": "https://localhost:8080/",
          "height": 35
        }
      },
      "source": [
        "x_values = torch.rand(20)\n",
        "y_values = torch.rand(20)\n",
        "print(type(x_values),type(y_values))"
      ],
      "execution_count": 0,
      "outputs": [
        {
          "output_type": "stream",
          "text": [
            "<class 'torch.Tensor'> <class 'torch.Tensor'>\n"
          ],
          "name": "stdout"
        }
      ]
    },
    {
      "cell_type": "code",
      "metadata": {
        "id": "7foWkMDNWDaJ",
        "colab_type": "code",
        "outputId": "b9979194-554a-4c78-b72b-e366877aeb3a",
        "colab": {
          "base_uri": "https://localhost:8080/",
          "height": 295
        }
      },
      "source": [
        "operation = Operations(x_values, y_values)\n",
        "operation.plot()"
      ],
      "execution_count": 0,
      "outputs": [
        {
          "output_type": "display_data",
          "data": {
            "image/png": "[encoded data removed]",
            "text/plain": [
              "<Figure size 432x288 with 1 Axes>"
            ]
          },
          "metadata": {
            "tags": []
          }
        }
      ]
    },
    {
      "cell_type": "code",
      "metadata": {
        "id": "4rw-PZfcalCM",
        "colab_type": "code",
        "colab": {}
      },
      "source": [
        "import numpy as np"
      ],
      "execution_count": 0,
      "outputs": []
    },
    {
      "cell_type": "code",
      "metadata": {
        "id": "3qC2k1iU8_W9",
        "colab_type": "code",
        "outputId": "a7c4f6f4-6460-4843-99bf-65c8fb2e620a",
        "colab": {
          "base_uri": "https://localhost:8080/",
          "height": 35
        }
      },
      "source": [
        "np_array = np.array([1,2,3,4,5])\n",
        "print(type(np_array))"
      ],
      "execution_count": 0,
      "outputs": [
        {
          "output_type": "stream",
          "text": [
            "<class 'numpy.ndarray'>\n"
          ],
          "name": "stdout"
        }
      ]
    },
    {
      "cell_type": "code",
      "metadata": {
        "id": "DguTK12x9HfX",
        "colab_type": "code",
        "outputId": "92e770db-a129-42c1-b50a-cabb0064ddda",
        "colab": {
          "base_uri": "https://localhost:8080/",
          "height": 35
        }
      },
      "source": [
        "py_tensor = torch.from_numpy(np_array)\n",
        "print(type(py_tensor))"
      ],
      "execution_count": 0,
      "outputs": [
        {
          "output_type": "stream",
          "text": [
            "<class 'torch.Tensor'>\n"
          ],
          "name": "stdout"
        }
      ]
    },
    {
      "cell_type": "code",
      "metadata": {
        "id": "VpH-lFt19Zsn",
        "colab_type": "code",
        "outputId": "ef78b76e-a92e-458d-fa91-4beac8a534df",
        "colab": {
          "base_uri": "https://localhost:8080/",
          "height": 35
        }
      },
      "source": [
        "np_array = py_tensor.numpy()\n",
        "print(type(np_array))"
      ],
      "execution_count": 0,
      "outputs": [
        {
          "output_type": "stream",
          "text": [
            "<class 'numpy.ndarray'>\n"
          ],
          "name": "stdout"
        }
      ]
    },
    {
      "cell_type": "code",
      "metadata": {
        "id": "SZx4dNU99ojX",
        "colab_type": "code",
        "outputId": "598c59e6-452f-488f-fa97-1eca62d6f792",
        "colab": {
          "base_uri": "https://localhost:8080/",
          "height": 108
        }
      },
      "source": [
        "values = torch.ones(4,2)\n",
        "print(values)\n",
        "print('Shape - {}'.format(values.shape))"
      ],
      "execution_count": 0,
      "outputs": [
        {
          "output_type": "stream",
          "text": [
            "tensor([[1., 1.],\n",
            "        [1., 1.],\n",
            "        [1., 1.],\n",
            "        [1., 1.]])\n",
            "Shape - torch.Size([4, 2])\n"
          ],
          "name": "stdout"
        }
      ]
    },
    {
      "cell_type": "code",
      "metadata": {
        "id": "W1JRoOClA2H7",
        "colab_type": "code",
        "outputId": "f4cb7e68-cf3a-4ff2-c44f-d02634492c96",
        "colab": {
          "base_uri": "https://localhost:8080/",
          "height": 181
        }
      },
      "source": [
        "values = values.view(8,1)\n",
        "print(values)\n",
        "print('Shape - {}'.format(values.shape))"
      ],
      "execution_count": 0,
      "outputs": [
        {
          "output_type": "stream",
          "text": [
            "tensor([[1.],\n",
            "        [1.],\n",
            "        [1.],\n",
            "        [1.],\n",
            "        [1.],\n",
            "        [1.],\n",
            "        [1.],\n",
            "        [1.]])\n",
            "Shape - torch.Size([8, 1])\n"
          ],
          "name": "stdout"
        }
      ]
    },
    {
      "cell_type": "code",
      "metadata": {
        "id": "7qiFzGXUBIlX",
        "colab_type": "code",
        "outputId": "9904bc81-a931-4130-a86a-cdee21fa84ce",
        "colab": {
          "base_uri": "https://localhost:8080/",
          "height": 54
        }
      },
      "source": [
        "values = values.view(1,-1)\n",
        "print(values)\n",
        "print('Shape - {}'.format(values.shape))"
      ],
      "execution_count": 0,
      "outputs": [
        {
          "output_type": "stream",
          "text": [
            "tensor([[1., 1., 1., 1., 1., 1., 1., 1.]])\n",
            "Shape - torch.Size([1, 8])\n"
          ],
          "name": "stdout"
        }
      ]
    },
    {
      "cell_type": "code",
      "metadata": {
        "id": "ADqpZCzaFAec",
        "colab_type": "code",
        "outputId": "b3749eac-bb9a-47cd-f99a-63e150b5a091",
        "colab": {
          "base_uri": "https://localhost:8080/",
          "height": 35
        }
      },
      "source": [
        "tensor1 = torch.Tensor([1,2,3,4,5])\n",
        "tensor2 = torch.Tensor([1,2,3,4,5])\n",
        "sum = tensor1.add(tensor2)\n",
        "print(sum)"
      ],
      "execution_count": 0,
      "outputs": [
        {
          "output_type": "stream",
          "text": [
            "tensor([ 2.,  4.,  6.,  8., 10.])\n"
          ],
          "name": "stdout"
        }
      ]
    },
    {
      "cell_type": "code",
      "metadata": {
        "id": "Ti3CzGNIGr2b",
        "colab_type": "code",
        "outputId": "52abfc97-1705-4731-9649-e31cdf15968a",
        "colab": {
          "base_uri": "https://localhost:8080/",
          "height": 35
        }
      },
      "source": [
        "tensor1.add_(tensor2)\n",
        "print(tensor1)"
      ],
      "execution_count": 0,
      "outputs": [
        {
          "output_type": "stream",
          "text": [
            "tensor([ 2.,  4.,  6.,  8., 10.])\n"
          ],
          "name": "stdout"
        }
      ]
    },
    {
      "cell_type": "code",
      "metadata": {
        "id": "RSiL181KHAN3",
        "colab_type": "code",
        "colab": {}
      },
      "source": [
        ""
      ],
      "execution_count": 0,
      "outputs": []
    }
  ]
}